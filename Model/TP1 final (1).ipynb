{
 "cells": [
  {
   "cell_type": "markdown",
   "metadata": {
    "id": "uMbJyUIZ_nfV"
   },
   "source": [
    "<h1><center> TP1 : Basic functions for Supervised Machine Learning. </center></h1>\n",
    "\n",
    "The deadline for report submission is Tuesday, November 10th 2020.\n",
    "\n",
    "Note: the goal of this first TP is to become familiar with 'sklearn' class in Python. In particular, we introduce most popular supervised learning algorithms. \n",
    "\n",
    "PART 1 is a list of commands that should be followed step by step. PART 2 is an open problem for which we are waiting for your creativity!"
   ]
  },
  {
   "cell_type": "markdown",
   "metadata": {
    "id": "Ba95CyNW_nfW"
   },
   "source": [
    "## Imported packages"
   ]
  },
  {
   "cell_type": "code",
   "execution_count": 1,
   "metadata": {
    "id": "MxR4ML8w_nfW"
   },
   "outputs": [],
   "source": [
    "import numpy as np\n",
    "import matplotlib.pyplot as plt\n",
    "from sklearn.neighbors import KNeighborsClassifier\n",
    "from sklearn.model_selection import train_test_split, GridSearchCV\n",
    "from sklearn.pipeline import Pipeline\n",
    "from sklearn.svm import LinearSVC\n",
    "from sklearn.linear_model import LogisticRegression\n",
    "from sklearn.preprocessing import MaxAbsScaler, StandardScaler\n",
    "from sklearn.metrics import balanced_accuracy_score, make_scorer, confusion_matrix\n",
    "from sklearn.metrics import confusion_matrix, classification_report\n",
    "import warnings\n",
    "from sklearn.ensemble import RandomForestClassifier\n",
    "from sklearn.model_selection import train_test_split\n",
    "from sklearn.metrics import plot_confusion_matrix\n",
    "import pandas as pd\n",
    "\n",
    "\n",
    "%matplotlib inline"
   ]
  },
  {
   "cell_type": "markdown",
   "metadata": {
    "id": "Rq5n9pys_nfb"
   },
   "source": [
    "#  PART 1 -- MNIST\n"
   ]
  },
  {
   "cell_type": "markdown",
   "metadata": {
    "id": "VtknrKIq_nfb"
   },
   "source": [
    "In the first part of TP1 we pursue the following goals:\n",
    "1. Apply standard ML algorithms on a standard benchmark data\n",
    "2. Learn basic means of data visualizations\n",
    "3. Get familiar with sklearn's GridSearchCV and Pipeline"
   ]
  },
  {
   "cell_type": "markdown",
   "metadata": {
    "id": "rx3BwJB7_nfc"
   },
   "source": [
    "## Loading the data"
   ]
  },
  {
   "cell_type": "markdown",
   "metadata": {
    "id": "l9prke3y_nfc"
   },
   "source": [
    "MNIST dataset consists of black and white images of hand-written digits from $0$ to $9$ of size $28 \\times 28$.\n",
    "In this exercise we will work with a small from the original MNIST dataset. \n",
    "\n",
    "If you are interested in the whole dataset, execute the following commands\n",
    "```python\n",
    "from sklearn.datasets import fetch_mldata\n",
    "mnist = fetch_mldata('MNIST original', data_home=custom_data_home)\n",
    "```\n",
    "\n",
    "Hence, the observations $(X_1, Y_1), \\ldots, (X_n, Y_n)$ are such that $X_i \\in \\mathbb{R}^{784}$ and $Y_i \\in \\{0, \\ldots, 9\\}$. To be more precise, each component of vector $X_i$ is a number between $0$ and $255$, which signifies the intensity of black color.\n",
    "\n",
    "The initial goal is to build a classifier $\\hat g$, which receives a new image $X$ and outputs the number that is present on the image."
   ]
  },
  {
   "cell_type": "code",
   "execution_count": 2,
   "metadata": {
    "id": "b87gOvG3_nfd"
   },
   "outputs": [
    {
     "name": "stdout",
     "output_type": "stream",
     "text": [
      "Train data contains: 2000 samples of dimension 784\n",
      "Test data contains: 200 samples\n"
     ]
    }
   ],
   "source": [
    "X_train = np.load('data/mnist1_features_train.npy', allow_pickle=True)\n",
    "y_train = np.load('data/mnist1_labels_train.npy', allow_pickle=True)\n",
    "X_test = np.load('data/mnist1_features_test.npy', allow_pickle=True)\n",
    "y_test = np.load('data/mnist1_labels_test.npy', allow_pickle=True)\n",
    "\n",
    "n_samples, n_features = X_train.shape # extract dimensions of the design matrix\n",
    "print('Train data contains: {} samples of dimension {}'.format(n_samples, n_features))\n",
    "print('Test data contains: {} samples'.format(X_test.shape[0]))"
   ]
  },
  {
   "cell_type": "markdown",
   "metadata": {
    "id": "f9d6tTya_nfg"
   },
   "source": [
    "## Looking at the data"
   ]
  },
  {
   "cell_type": "markdown",
   "metadata": {
    "id": "CyU0Vx5l_nfg"
   },
   "source": [
    "Since each observation is actually an image, we can visualize it."
   ]
  },
  {
   "cell_type": "code",
   "execution_count": 3,
   "metadata": {
    "id": "rJip4ApA_nfh"
   },
   "outputs": [
    {
     "data": {
      "image/png": "[encoded data removed]",
      "text/plain": [
       "<Figure size 432x288 with 10 Axes>"
      ]
     },
     "metadata": {
      "needs_background": "light"
     },
     "output_type": "display_data"
    }
   ],
   "source": [
    "axes = plt.subplots(1, 10)[1]  # creates a grid of 10 plots\n",
    "\n",
    "# More details about zip() function here https://docs.python.org/3.3/library/functions.html#zip\n",
    "images_and_labels = list(zip(X_train, y_train)) \n",
    "for ax, (image, label) in zip(axes, images_and_labels[:10]):\n",
    "    ax.set_axis_off()\n",
    "    ax.imshow(image.reshape((28, 28)), cmap=plt.cm.gray_r, interpolation='nearest')\n",
    "    ax.set_title('{}'.format(label))"
   ]
  },
  {
   "cell_type": "code",
   "execution_count": 4,
   "metadata": {
    "id": "ZZn3hTP9_nfk"
   },
   "outputs": [
    {
     "name": "stdout",
     "output_type": "stream",
     "text": [
      "Number of 0s in the train dataset is 196\n",
      "Number of 1s in the train dataset is 226\n",
      "Number of 2s in the train dataset is 214\n",
      "Number of 3s in the train dataset is 211\n",
      "Number of 4s in the train dataset is 187\n",
      "Number of 5s in the train dataset is 179\n",
      "Number of 6s in the train dataset is 175\n",
      "Number of 7s in the train dataset is 225\n",
      "Number of 8s in the train dataset is 186\n",
      "Number of 9s in the train dataset is 201\n"
     ]
    }
   ],
   "source": [
    "for i in range(10):\n",
    "    print('Number of {}s in the train dataset is {}'.format(i, np.sum([y_train == str(i)])))"
   ]
  },
  {
   "cell_type": "code",
   "execution_count": 5,
   "metadata": {},
   "outputs": [
    {
     "data": {
      "text/plain": [
       "<BarContainer object of 10 artists>"
      ]
     },
     "execution_count": 5,
     "metadata": {},
     "output_type": "execute_result"
    },
    {
     "data": {
      "image/png": "[encoded data removed]",
      "text/plain": [
       "<Figure size 432x288 with 1 Axes>"
      ]
     },
     "metadata": {
      "needs_background": "light"
     },
     "output_type": "display_data"
    }
   ],
   "source": [
    "num_labels={ }\n",
    "for i in range(10):\n",
    "    num_labels[i] = np.sum(y_train==str(i))\n",
    "x,y  = zip(*num_labels.items())    \n",
    "\n",
    "plt.bar(x, y)"
   ]
  },
  {
   "cell_type": "markdown",
   "metadata": {
    "id": "F9dWeV7G_nfm"
   },
   "source": [
    "From the above we conclude that the dataset is rather balanced, that is, each class contains similar amount of observations. The rarest class is $y = 6$ with $175$ examples and the most common class is $y = 2$ with $226$ examples"
   ]
  },
  {
   "cell_type": "markdown",
   "metadata": {
    "id": "glcFsx7k_nfn"
   },
   "source": [
    "## Cross-validation with GridSearchCV"
   ]
  },
  {
   "cell_type": "markdown",
   "metadata": {
    "id": "f1WiDMZj_nfo"
   },
   "source": [
    "\n",
    "**Question:** Explain in your report what happens when we run \n",
    "```python\n",
    "clf.fit(X_train, y_train)\n",
    "```\n",
    "\n",
    "\n",
    "What is the complexity for each of the three following cases? \n",
    "\n"
   ]
  },
  {
   "cell_type": "markdown",
   "metadata": {},
   "source": [
    "- <i>We fit using a GridSearchCv KNeighborsClassifier. clf is the name of the object wich allows to do cross validation based on our knn classifier. We run a cross validatoin with cv=3; we divide (Xtrain, Ytrain) into 3 parts. Then we applied knn algorithm on train of the first part (with k from 1 to 5), and we estimate the error. We repeat it on the second and third parts. The fit method fits the training dataset as features X and labels Y into a model.<br>\n",
    "- <i>The cost of an algorithm depends on the number of elementary operations (arithmetic or logical) as well as on the number of assignments necessary for its execution. With the notations n= number of training examples, d=number of dimensions of the data, k=number of neighbors : Knn’s complexity is o(knd), SVC’s complexity is o(n2) and Logistic regression’s complexity is o(nd)."
   ]
  },
  {
   "cell_type": "markdown",
   "metadata": {},
   "source": [
    "***"
   ]
  },
  {
   "cell_type": "code",
   "execution_count": 7,
   "metadata": {
    "id": "UU7t7Xyo_nfo"
   },
   "outputs": [
    {
     "name": "stdout",
     "output_type": "stream",
     "text": [
      "Returned hyperparameter: {'n_neighbors': 1}\n",
      "Best classification accuracy in train is: 0.891497944721333\n",
      "Classification accuracy on test is: 0.875\n"
     ]
    }
   ],
   "source": [
    "# GridSearchCV with kNN : a simple baseline\n",
    "knn = KNeighborsClassifier() # defining classifier\n",
    "parameters = {'n_neighbors': [1, 2, 3, 4, 5]} # defining parameter space\n",
    "clf = GridSearchCV(knn, parameters, cv=3)\n",
    "clf.fit(X_train, y_train)\n",
    "\n",
    "print('Returned hyperparameter: {}'.format(clf.best_params_))\n",
    "print('Best classification accuracy in train is: {}'.format(clf.best_score_))\n",
    "print('Classification accuracy on test is: {}'.format(clf.score(X_test, y_test)))"
   ]
  },
  {
   "cell_type": "markdown",
   "metadata": {},
   "source": [
    "***"
   ]
  },
  {
   "cell_type": "markdown",
   "metadata": {
    "id": "htZ5-0Yt_nfr"
   },
   "source": [
    "**Question:** What is the test accuracy? What would be the accuracy of random guess?\n",
    "\n"
   ]
  },
  {
   "cell_type": "markdown",
   "metadata": {},
   "source": [
    "- <i>The test accuracy is given by running this command : clf.score(Xtest,ytest)). It’s equal to 0.875. The accuracy of random guess is 1/10, it follows an uniform distribution over 10 classes.\n"
   ]
  },
  {
   "cell_type": "code",
   "execution_count": 8,
   "metadata": {},
   "outputs": [
    {
     "name": "stdout",
     "output_type": "stream",
     "text": [
      "              precision    recall  f1-score   support\n",
      "\n",
      "           0       0.95      0.95      0.95        22\n",
      "           1       0.90      1.00      0.95        26\n",
      "           2       1.00      0.88      0.93        16\n",
      "           3       0.95      0.83      0.88        23\n",
      "           4       0.81      0.85      0.83        20\n",
      "           5       0.58      0.70      0.64        10\n",
      "           6       0.92      0.96      0.94        24\n",
      "           7       0.83      0.94      0.88        16\n",
      "           8       0.88      0.82      0.85        17\n",
      "           9       0.83      0.73      0.78        26\n",
      "\n",
      "    accuracy                           0.88       200\n",
      "   macro avg       0.86      0.87      0.86       200\n",
      "weighted avg       0.88      0.88      0.88       200\n",
      "\n",
      "Confusion matrix\n",
      "By definition a confusion matrix  is such that  is equal to the number of observations known to be in group  and predicted to be in group .\n",
      "[[21  0  0  0  0  0  1  0  0  0]\n",
      " [ 0 26  0  0  0  0  0  0  0  0]\n",
      " [ 0  0 14  0  0  2  0  0  0  0]\n",
      " [ 0  0  0 19  0  2  0  0  1  1]\n",
      " [ 0  1  0  0 17  0  0  0  0  2]\n",
      " [ 0  0  0  0  1  7  1  0  1  0]\n",
      " [ 0  0  0  0  0  1 23  0  0  0]\n",
      " [ 0  0  0  0  1  0  0 15  0  0]\n",
      " [ 0  1  0  1  0  0  0  0 14  1]\n",
      " [ 1  1  0  0  2  0  0  3  0 19]]\n"
     ]
    }
   ],
   "source": [
    "predicted_labels= clf.predict(X_test)\n",
    "cm = confusion_matrix(y_test, predicted_labels,labels=clf.classes_)\n",
    "\n",
    "print(classification_report(y_test, predicted_labels, labels=clf.classes_))\n",
    "\n",
    "print(\"Confusion matrix\")\n",
    "print(\"By definition a confusion matrix  is such that  is equal to the number of observations known to be in group  and predicted to be in group .\")\n",
    "print(cm)"
   ]
  },
  {
   "cell_type": "markdown",
   "metadata": {},
   "source": [
    "***"
   ]
  },
  {
   "cell_type": "markdown",
   "metadata": {
    "id": "nLc-AQ3d_nfs"
   },
   "source": [
    "**Question:** What is ``` LinearSVC()``` classifier? Which kernel are we using? What is ```C```? (this is a tricky question, try to find the answer online)\n",
    "\n"
   ]
  },
  {
   "cell_type": "markdown",
   "metadata": {},
   "source": [
    "- <i>Linear Support Vector Classification is similar to Support Vector Classification with parameter ker- nel=’linear’, but implemented in terms of liblinear rather than libsvm, so it has more flexibility in the choice of penalties and loss functions and should scale better to large numbers of samples.<br>\n",
    "- <i>This class supports both dense and sparse input and the multiclass support is handled according to a one- vs-the-rest scheme.<br>\n",
    "- <i>C is the Regularization parameter. C is like a Lasso penalization, in that it adds biais and it removes variance in order to generalize the model. The margins telles us the tolerance of how many points will be within the margin. If C increases, the margins decreases and then we have overtfitting’s risk. In addition, we must normalize our data before the regularization so that we can calculate comparable distances. The strength of the regularization is inversely proportional to C. It must be strictly positive. We represented the relation between C and the margins in figure 1."
   ]
  },
  {
   "cell_type": "markdown",
   "metadata": {},
   "source": [
    "***"
   ]
  },
  {
   "cell_type": "markdown",
   "metadata": {
    "id": "MzXdFHVr_nfs"
   },
   "source": [
    "**Question:** What is the outcome of ```np.logspace(-8, 8, 17, base=2)```? More generally, what is the ourcome of ```np.logspace(-a, b, k, base=m)```?\n",
    "\n",
    "\n",
    "\n",
    "\n"
   ]
  },
  {
   "cell_type": "markdown",
   "metadata": {},
   "source": [
    "-  ```python\n",
    "  array([3.90625e-03, 7.81250e-03, 1.56250e-02, 3.12500e-02, 6.25000e-02,\n",
    "       1.25000e-01, 2.50000e-01, 5.00000e-01, 1.00000e+00, 2.00000e+00,\n",
    "       4.00000e+00, 8.00000e+00, 1.60000e+01, 3.20000e+01, 6.40000e+01,\n",
    "       1.28000e+02, 2.56000e+02])\n",
    "     ```\n",
    "    \n",
    "- np.logspace(−a, b, k, base = m) Return numbers spaced evenly on a log scale. -a = base, start is the starting value of the sequence. b = base, stop is the final value of the sequence, unless endpoint is False. In that case, num + 1 values are spaced over the interval in log-space, of which all but the last (a sequence of length num) are returned.\n",
    "    - **k = Number of samples to generate.** Default is 50.\n",
    "    - **base = m** : The base of the log space. \n",
    "    - The step size between the elements in **$ln(samples) / ln(base) ($or $log_b(samples))$** is uniform. Default is 10.0."
   ]
  },
  {
   "cell_type": "code",
   "execution_count": 9,
   "metadata": {
    "id": "12I4xqY3_nft"
   },
   "outputs": [
    {
     "name": "stderr",
     "output_type": "stream",
     "text": [
      "/anaconda3/lib/python3.7/site-packages/sklearn/svm/_base.py:977: ConvergenceWarning: Liblinear failed to converge, increase the number of iterations.\n",
      "  \"the number of iterations.\", ConvergenceWarning)\n",
      "/anaconda3/lib/python3.7/site-packages/sklearn/svm/_base.py:977: ConvergenceWarning: Liblinear failed to converge, increase the number of iterations.\n",
      "  \"the number of iterations.\", ConvergenceWarning)\n",
      "/anaconda3/lib/python3.7/site-packages/sklearn/svm/_base.py:977: ConvergenceWarning: Liblinear failed to converge, increase the number of iterations.\n",
      "  \"the number of iterations.\", ConvergenceWarning)\n",
      "/anaconda3/lib/python3.7/site-packages/sklearn/svm/_base.py:977: ConvergenceWarning: Liblinear failed to converge, increase the number of iterations.\n",
      "  \"the number of iterations.\", ConvergenceWarning)\n",
      "/anaconda3/lib/python3.7/site-packages/sklearn/svm/_base.py:977: ConvergenceWarning: Liblinear failed to converge, increase the number of iterations.\n",
      "  \"the number of iterations.\", ConvergenceWarning)\n",
      "/anaconda3/lib/python3.7/site-packages/sklearn/svm/_base.py:977: ConvergenceWarning: Liblinear failed to converge, increase the number of iterations.\n",
      "  \"the number of iterations.\", ConvergenceWarning)\n",
      "/anaconda3/lib/python3.7/site-packages/sklearn/svm/_base.py:977: ConvergenceWarning: Liblinear failed to converge, increase the number of iterations.\n",
      "  \"the number of iterations.\", ConvergenceWarning)\n"
     ]
    },
    {
     "name": "stdout",
     "output_type": "stream",
     "text": [
      "Returned hyperparameter: {'C': 0.00390625}\n",
      "Best classification accuracy in train is: 0.8095074084579332\n",
      "Classification accuracy on test is: 0.795\n"
     ]
    },
    {
     "name": "stderr",
     "output_type": "stream",
     "text": [
      "/anaconda3/lib/python3.7/site-packages/sklearn/svm/_base.py:977: ConvergenceWarning: Liblinear failed to converge, increase the number of iterations.\n",
      "  \"the number of iterations.\", ConvergenceWarning)\n"
     ]
    }
   ],
   "source": [
    "# SVM Classifier\n",
    "svc = LinearSVC(max_iter=5000)\n",
    "parameters2 = {'C': np.logspace(-8, 8, 17, base=2)} # defining parameter space\n",
    "clf2 = GridSearchCV(svc, parameters2, cv=3)\n",
    "clf2.fit(X_train, y_train)\n",
    "\n",
    "\n",
    "print('Returned hyperparameter: {}'.format(clf2.best_params_))\n",
    "print('Best classification accuracy in train is: {}'.format(clf2.best_score_))\n",
    "print('Classification accuracy on test is: {}'.format(clf2.score(X_test, y_test)))"
   ]
  },
  {
   "cell_type": "markdown",
   "metadata": {},
   "source": [
    "***"
   ]
  },
  {
   "cell_type": "markdown",
   "metadata": {
    "id": "mcuJPjjq_nfv"
   },
   "source": [
    "**Question** What is the meaning of the warnings? What is the parameter responsible for its appearence?\n"
   ]
  },
  {
   "cell_type": "markdown",
   "metadata": {},
   "source": [
    "- <i>It means that the algorithm does not converge using each of the 17 regularization parameters C, because the number of iterations is too low, we could not resolve a convex optimization problem.<br>\n",
    "- <i>The parameter responsible is maxiter (number of iterations to reach our extremum) in the funtion SVC."
   ]
  },
  {
   "cell_type": "code",
   "execution_count": 10,
   "metadata": {
    "id": "dgjoxWpW_nfw"
   },
   "outputs": [
    {
     "name": "stdout",
     "output_type": "stream",
     "text": [
      "Returned hyperparameter: {'svc__C': 0.015625}\n",
      "Best classification accuracy in train is: 0.863002432717575\n",
      "Classification accuracy on test is: 0.84\n"
     ]
    }
   ],
   "source": [
    "# SVM Classifier + Pipeline\n",
    "pipe = Pipeline([('scaler', MaxAbsScaler()), ('svc', svc)])\n",
    "parameters3 = {'svc__C': np.logspace(-8, 8, 17, base=2)} # defining parameter space\n",
    "clf3 = GridSearchCV(pipe, parameters3, cv=3)\n",
    "clf3.fit(X_train, y_train)\n",
    "\n",
    "print('Returned hyperparameter: {}'.format(clf3.best_params_))\n",
    "print('Best classification accuracy in train is: {}'.format(clf3.best_score_))\n",
    "print('Classification accuracy on test is: {}'.format(clf3.score(X_test, y_test)))"
   ]
  },
  {
   "cell_type": "markdown",
   "metadata": {},
   "source": [
    "***"
   ]
  },
  {
   "cell_type": "markdown",
   "metadata": {
    "id": "8VdXZthv_nfy"
   },
   "source": [
    "**Question:** What did we change with respect to the previous run of ```LinearSVC()```?\n",
    "\n"
   ]
  },
  {
   "cell_type": "markdown",
   "metadata": {},
   "source": [
    "- <i>We used the pipeline (scaler MaxAbsScaler) to transform the dataset, before using the svm model. The transformation scales and translates each feature individually such that the maximal absolute value of each feature in the training set will be 1.0."
   ]
  },
  {
   "cell_type": "markdown",
   "metadata": {},
   "source": [
    "---"
   ]
  },
  {
   "cell_type": "markdown",
   "metadata": {},
   "source": [
    "**Question:** Explain what happens if we execute\n",
    "```python\n",
    "    pipe.fit(X_train, y_train)\n",
    "    pipe.predict(X_test, y_test)\n",
    "```"
   ]
  },
  {
   "cell_type": "markdown",
   "metadata": {},
   "source": [
    "- <i>The fit function is executed with default params. The features are first transformed using the pipeline MaxAbsScaler(), and after we considered the Linearsvc model.<br>\n",
    "- <i>The predict part  won't work because it only takes one parameter\n",
    "    ``` python\n",
    "    pipe.fit(X_train,y_train)\n",
    "    pipe.predict(X_test)\n",
    "    ```"
   ]
  },
  {
   "cell_type": "code",
   "execution_count": 13,
   "metadata": {},
   "outputs": [
    {
     "data": {
      "text/plain": [
       "array(['4', '1', '6', '5', '3', '4', '1', '3', '3', '1', '0', '6', '3',\n",
       "       '4', '9', '7', '6', '4', '1', '6', '1', '4', '3', '8', '9', '4',\n",
       "       '7', '8', '1', '1', '5', '6', '1', '4', '0', '2', '0', '9', '9',\n",
       "       '6', '2', '4', '6', '4', '9', '8', '7', '7', '0', '9', '4', '6',\n",
       "       '9', '7', '5', '2', '2', '7', '1', '6', '5', '4', '2', '8', '9',\n",
       "       '6', '3', '2', '8', '1', '7', '0', '1', '3', '2', '0', '9', '0',\n",
       "       '0', '0', '1', '0', '8', '7', '9', '9', '2', '1', '8', '9', '3',\n",
       "       '1', '5', '1', '3', '1', '3', '0', '8', '7', '0', '6', '5', '9',\n",
       "       '4', '0', '2', '5', '6', '9', '7', '5', '6', '3', '9', '7', '9',\n",
       "       '0', '9', '3', '9', '1', '3', '1', '3', '6', '1', '3', '8', '8',\n",
       "       '2', '9', '9', '6', '2', '7', '4', '3', '9', '2', '7', '0', '8',\n",
       "       '1', '2', '3', '6', '0', '8', '1', '5', '0', '0', '3', '0', '4',\n",
       "       '3', '1', '3', '9', '0', '4', '3', '9', '4', '8', '4', '7', '3',\n",
       "       '0', '9', '5', '8', '4', '6', '6', '3', '0', '4', '7', '0', '3',\n",
       "       '1', '8', '7', '8', '0', '4', '9', '6', '7', '1', '1', '2', '2',\n",
       "       '3', '6', '6', '2', '0'], dtype=object)"
      ]
     },
     "execution_count": 13,
     "metadata": {},
     "output_type": "execute_result"
    }
   ],
   "source": [
    "pipe.fit(X_train,y_train)\n",
    "pipe.predict(X_test)"
   ]
  },
  {
   "cell_type": "code",
   "execution_count": null,
   "metadata": {},
   "outputs": [],
   "source": [
    "##  Filtering future warnings\n",
    "warnings.filterwarnings(\"ignore\", category=FutureWarning)"
   ]
  },
  {
   "cell_type": "code",
   "execution_count": 15,
   "metadata": {
    "id": "OYq25hM0_nfy"
   },
   "outputs": [
    {
     "name": "stdout",
     "output_type": "stream",
     "text": [
      "Returned hyperparameter: {'logreg__C': 0.0078125}\n",
      "Best classification accuracy in train is: 0.8705039372205788\n",
      "Classification accuracy on test is: 0.84\n"
     ]
    }
   ],
   "source": [
    "# Logistic regression\n",
    "pipe = Pipeline([('scaler', StandardScaler()), ('logreg', LogisticRegression(solver='lbfgs',max_iter=5000))])\n",
    "parameters4 = {'logreg__C': np.logspace(-8, 8, 17, base=2)} # defining parameter space\n",
    "clf4 = GridSearchCV(pipe, parameters4, cv=3)\n",
    "clf4.fit(X_train, y_train)\n",
    "\n",
    "print('Returned hyperparameter: {}'.format(clf4.best_params_))\n",
    "print('Best classification accuracy in train is: {}'.format(clf4.best_score_))\n",
    "print('Classification accuracy on test is: {}'.format(clf4.score(X_test, y_test)))"
   ]
  },
  {
   "cell_type": "markdown",
   "metadata": {
    "id": "4JThSDL3_nf1"
   },
   "source": [
    "**Question:** what is the difference between ```StandardScaler()``` and ```MaxAbsMaxAbsScalerler()```? What are other scaling options available in ```sklearn```?\n"
   ]
  },
  {
   "cell_type": "markdown",
   "metadata": {},
   "source": [
    "- <i>StandardScaler standardize features by removing the mean and scaling to unit variance while MaxAbsScaler does not shift/center the data, and thus does not destroy any sparsity. The others scaling options are MinMaxScaler, RobustScaler and PowerTransformer.\n"
   ]
  },
  {
   "cell_type": "markdown",
   "metadata": {},
   "source": [
    "***"
   ]
  },
  {
   "cell_type": "markdown",
   "metadata": {
    "id": "LMhXo65R_nf1"
   },
   "source": [
    "**Question:** using the previous code as an example achieve test accuracy $\\geq 0.9$. You can use any method from sklearn package. Give a mathematical description of the selected method. Explain the range of considered hyperparamers.\n"
   ]
  },
  {
   "cell_type": "markdown",
   "metadata": {},
   "source": [
    "We used the random forest method. Its consists in created a large number of classification trees. The label of a new individual whose features are X, will be determined by a majority vote.\n",
    "\n",
    "#### Mathematical description:\n",
    "For $B$ in n_estimators : \n",
    "1. For $b=1$ to $B$:\n",
    "    1. Draw a bootstrap sample $Z^*$ of size $N$ from X_train\n",
    "    2. Grow a random forest tress $T_b$ to the bootstrapped data, by recursively repeating the following steps for each terminal node of the tree, until the minimum node size $n_{min}$ is reached\n",
    "        1. Select $p$ variables randomly from the 784 variables\n",
    "        2. Pick the best variable/split-point among the $p$/\n",
    "        3. Split the node into two daughter nodes\n",
    "2. Output the ensemble trees $\\{T_b\\}^B_1$       \n",
    "\n",
    "The prediction is then made using majority vote: \n",
    "\n",
    "Let $C_b(x)$ be the class prediction of the bth random-forest tree.\n",
    "\n",
    "> Then $C_{rf}^B(b)= majority\\ vote \\{C_b(x)\\}^B_1$\n",
    "\n",
    "\n",
    "\n",
    "We chose a number of trees between 800 and 1300 because the more trees we have, the lesser the variance. We start at 800 trees because 784 features."
   ]
  },
  {
   "cell_type": "code",
   "execution_count": 20,
   "metadata": {},
   "outputs": [
    {
     "name": "stdout",
     "output_type": "stream",
     "text": [
      "Returned hyperparameter: {'rf__n_estimators': 800}\n",
      "Best classification accuracy in train is: 0.9155032093562827\n",
      "Classification accuracy on test is: 0.925\n"
     ]
    }
   ],
   "source": [
    "from sklearn.ensemble import RandomForestClassifier\n",
    "\n",
    "pipe = Pipeline([('scaler', MaxAbsScaler()), ('rf', RandomForestClassifier())])\n",
    "parameters5 = {'rf__n_estimators': [800,900,1000,1100, 1200, 1300]} # defining parameter space\n",
    "clf5 = GridSearchCV(pipe, parameters5, cv=3)\n",
    "clf5.fit(X_train, y_train)\n",
    "\n",
    "print('Returned hyperparameter: {}'.format(clf5.best_params_))\n",
    "print('Best classification accuracy in train is: {}'.format(clf5.best_score_))\n",
    "print('Classification accuracy on test is: {}'.format(clf5.score(X_test, y_test)))"
   ]
  },
  {
   "cell_type": "code",
   "execution_count": 21,
   "metadata": {},
   "outputs": [
    {
     "name": "stdout",
     "output_type": "stream",
     "text": [
      "              precision    recall  f1-score   support\n",
      "\n",
      "           0       0.92      1.00      0.96        22\n",
      "           1       0.93      1.00      0.96        26\n",
      "           2       0.93      0.88      0.90        16\n",
      "           3       0.95      0.91      0.93        23\n",
      "           4       0.86      0.95      0.90        20\n",
      "           5       0.82      0.90      0.86        10\n",
      "           6       1.00      0.83      0.91        24\n",
      "           7       0.94      1.00      0.97        16\n",
      "           8       0.94      0.88      0.91        17\n",
      "           9       0.92      0.88      0.90        26\n",
      "\n",
      "    accuracy                           0.93       200\n",
      "   macro avg       0.92      0.92      0.92       200\n",
      "weighted avg       0.93      0.93      0.92       200\n",
      "\n",
      "Confusion matrix\n",
      "By definition a confusion matrix  is such that  is equal to the number of observations known to be in group  and predicted to be in group .\n",
      "[[22  0  0  0  0  0  0  0  0  0]\n",
      " [ 0 26  0  0  0  0  0  0  0  0]\n",
      " [ 1  0 14  0  1  0  0  0  0  0]\n",
      " [ 0  0  0 21  0  1  0  0  0  1]\n",
      " [ 0  0  0  0 19  0  0  0  0  1]\n",
      " [ 0  0  0  0  1  9  0  0  0  0]\n",
      " [ 1  1  1  0  0  1 20  0  0  0]\n",
      " [ 0  0  0  0  0  0  0 16  0  0]\n",
      " [ 0  1  0  1  0  0  0  0 15  0]\n",
      " [ 0  0  0  0  1  0  0  1  1 23]]\n"
     ]
    }
   ],
   "source": [
    "predicted_labels= clf5.predict(X_test)\n",
    "cm = confusion_matrix(y_test, predicted_labels,labels=clf.classes_)\n",
    "\n",
    "print(classification_report(y_test, predicted_labels, labels=clf.classes_))\n",
    "\n",
    "print(\"Confusion matrix\")\n",
    "print(\"By definition a confusion matrix  is such that  is equal to the number of observations known to be in group  and predicted to be in group .\")\n",
    "print(cm)"
   ]
  },
  {
   "cell_type": "markdown",
   "metadata": {},
   "source": [
    "*** "
   ]
  },
  {
   "cell_type": "markdown",
   "metadata": {
    "id": "kSLA-W8f_nf2"
   },
   "source": [
    "## Visualizing errors"
   ]
  },
  {
   "cell_type": "markdown",
   "metadata": {
    "id": "Y6WsLRVj_nf2"
   },
   "source": [
    "Some ```sklearn``` methods are able to output probabilities ```predict_proba(X_test)```."
   ]
  },
  {
   "cell_type": "markdown",
   "metadata": {
    "id": "bIy5Qq_M_nf5"
   },
   "source": [
    "**Question** There is a mistake in the following chunk of code. Fix it."
   ]
  },
  {
   "cell_type": "code",
   "execution_count": 23,
   "metadata": {
    "id": "DTo8GP1y_nf5"
   },
   "outputs": [
    {
     "data": {
      "image/png": "[encoded data removed]",
      "text/plain": [
       "<Figure size 432x288 with 8 Axes>"
      ]
     },
     "metadata": {
      "needs_background": "light"
     },
     "output_type": "display_data"
    }
   ],
   "source": [
    "axes = plt.subplots(2, 4)[1]  # creates a grid of 10 plots\n",
    "\n",
    "# More details about zip() function here https://docs.python.org/3.3/library/functions.html#zip\n",
    "y_pred = clf4.predict(X_test)\n",
    "j = 0 # Index which iterates over plots\n",
    "for true_label, pred_label, image in list(zip(y_test, y_pred, X_test)):\n",
    "    if j == 4: # We only want to look at 4 first mistakes\n",
    "        break\n",
    "    if true_label != pred_label:\n",
    "        # Plotting predicted probabilities\n",
    "        axes[1, j].bar(np.arange(10), clf4.predict_proba(image.reshape(1, -1))[0]) \n",
    "        axes[1, j].set_xticks(np.arange(10))\n",
    "        axes[1, j].set_yticks([])\n",
    "        \n",
    "        # Plotting the image\n",
    "        axes[0, j].imshow(image.reshape((28, 28)), cmap=plt.cm.gray_r, interpolation='nearest')\n",
    "        axes[0, j].set_xticks([])\n",
    "        axes[0, j].set_yticks([])\n",
    "        axes[0, j].set_title('Predicted {}'.format(pred_label))\n",
    "        j += 1\n",
    "        \n",
    "#         plt.xticks(x, ('Bill', 'Fred', 'Mary', 'Sue'))\n",
    "#         axex[1, j].plot()"
   ]
  },
  {
   "cell_type": "markdown",
   "metadata": {
    "id": "DCfSgtV__nf8"
   },
   "source": [
    "## Changing the Loss function"
   ]
  },
  {
   "cell_type": "markdown",
   "metadata": {
    "id": "5OR48R9n_nf9"
   },
   "source": [
    "It often happens that the accuracy is not the right way to evaluate the performance. ```sklearn``` has a large variety of other metrics both in classification and regression. See https://scikit-learn.org/stable/modules/classes.html#module-sklearn.metrics\n",
    "\n",
    "Here we want to understand how to change the cross-validation metric with minimal effort."
   ]
  },
  {
   "cell_type": "code",
   "execution_count": 24,
   "metadata": {
    "id": "ZRw0iEUD_nf9"
   },
   "outputs": [
    {
     "name": "stdout",
     "output_type": "stream",
     "text": [
      "Returned hyperparameter: {'svc__C': 0.015625}\n",
      "Best Balanced accuracy in train is: 0.8612334093654231\n",
      "Balanced accuracy on test is: 0.825627008328415\n"
     ]
    }
   ],
   "source": [
    "# SVM Classifier + Pipeline + New score function\n",
    "\n",
    "pipe = Pipeline([('scaler', MaxAbsScaler()), ('svc', svc)])\n",
    "parameters4 = {'svc__C': np.logspace(-8, 8, 5, base=2)} # defining parameter space\n",
    "balanced_scorer = make_scorer(balanced_accuracy_score)\n",
    "\n",
    "clf4 = GridSearchCV(pipe, parameters3, cv=3, scoring=balanced_scorer)\n",
    "clf4.fit(X_train, y_train)\n",
    "\n",
    "print('Returned hyperparameter: {}'.format(clf4.best_params_))\n",
    "print('Best Balanced accuracy in train is: {}'.format(clf4.best_score_))\n",
    "print('Balanced accuracy on test is: {}'.format(clf4.score(X_test, y_test)))"
   ]
  },
  {
   "cell_type": "code",
   "execution_count": null,
   "metadata": {},
   "outputs": [],
   "source": []
  },
  {
   "cell_type": "code",
   "execution_count": null,
   "metadata": {},
   "outputs": [],
   "source": []
  },
  {
   "cell_type": "markdown",
   "metadata": {
    "id": "ZwPxbFX2_nf_"
   },
   "source": [
    "**Question:** What is ```balanced_accuracy_score```? Write its mathematical mathematical description.\n",
    "\n",
    "* The balanced accuracy in binary and multiclass classification problems to deal with imbalanced datasets. It is defined as the average of recall obtained on each class.\n",
    "* \n",
    "Σ True positive\n",
    "/\n",
    "Σ Condition positive ( true positive + false negative)\n",
    "\n",
    "* The best value is 1 and the worst value is 0 when adjusted=False."
   ]
  },
  {
   "cell_type": "markdown",
   "metadata": {},
   "source": [
    "<i>The balanced accuracy in binary and multiclass classification problems to deal with imbalanced datasets. It is defined as the average of recall obtained on each class.<br><br>\n",
    "\n",
    "<i>Σ True positive/ Σ Condition positive ( true positive + false negative)<br><br>\n",
    "\n",
    "<i>The best value is 1 and the worst value is 0 when adjusted=False."
   ]
  },
  {
   "cell_type": "markdown",
   "metadata": {
    "id": "QxVZkbfb_ngA"
   },
   "source": [
    "Sometimes it is important to look at the confusion matrix of the prediction.\n",
    "\n",
    "**Question:** What is the confusion matrix? What are the conclusions that we can draw from the ```confusion_matrix(y_test, clf4.predict(X_test))```\n",
    "\n"
   ]
  },
  {
   "cell_type": "code",
   "execution_count": 25,
   "metadata": {
    "id": "BNZlMVno_ngA"
   },
   "outputs": [
    {
     "name": "stdout",
     "output_type": "stream",
     "text": [
      "[[22  0  0  0  0  0  0  0  0  0]\n",
      " [ 0 24  0  0  0  0  0  0  2  0]\n",
      " [ 0  0 14  1  1  0  0  0  0  0]\n",
      " [ 0  0  0 18  0  3  0  0  1  1]\n",
      " [ 0  1  0  0 17  0  0  0  0  2]\n",
      " [ 1  0  0  1  0  6  0  1  0  1]\n",
      " [ 1  2  1  0  0  0 20  0  0  0]\n",
      " [ 0  0  0  0  1  0  0 15  0  0]\n",
      " [ 0  2  0  1  0  3  0  0 11  0]\n",
      " [ 0  0  0  0  2  0  0  2  1 21]]\n"
     ]
    }
   ],
   "source": [
    "print(confusion_matrix(y_test, clf4.predict(X_test)))"
   ]
  },
  {
   "cell_type": "markdown",
   "metadata": {
    "id": "pD8zfpwi_ngC"
   },
   "source": [
    "# PART 2 -- Problem"
   ]
  },
  {
   "cell_type": "markdown",
   "metadata": {
    "id": "YsQ8-Nyq_ngD"
   },
   "source": [
    "The data that we have contains images with $10$ classes. Normally, accuracy is a reasonable choice of the loss function to be optimized, but in this problem we *really* do not like when digits from $\\{5, 6, 7, 8, 9\\}$ are predicted to be from $\\{0, 1, 2, 3, 4\\}$.\n",
    "\n",
    "**Question:** Propose a loss function that would address our needs. Explain your choice.\n",
    "\n",
    "\n",
    "**Question:** Following above examples, make an ML pipeline that uses *your* loss function and finds appropriate classifiers.\n",
    "\n",
    "When writing your report on this part, include:\n",
    "   1. description of your loss function\n",
    "   2. description of the pipeline\n",
    "   3. description of the algorithms that you used "
   ]
  },
  {
   "cell_type": "markdown",
   "metadata": {
    "toc-hr-collapsed": false
   },
   "source": [
    "##  Our solution"
   ]
  },
  {
   "cell_type": "markdown",
   "metadata": {},
   "source": [
    "In order to test our custom loss function, we decided to use the whole mnist dataset\n",
    "\n",
    "First, we import the full mnist dataset from the csv file"
   ]
  },
  {
   "cell_type": "markdown",
   "metadata": {},
   "source": [
    "### Importing the data"
   ]
  },
  {
   "cell_type": "code",
   "execution_count": 54,
   "metadata": {},
   "outputs": [
    {
     "name": "stdout",
     "output_type": "stream",
     "text": [
      "<class 'pandas.core.frame.DataFrame'>\n",
      "RangeIndex: 70000 entries, 0 to 69999\n",
      "Columns: 785 entries, col_1 to y\n",
      "dtypes: int64(785)\n",
      "memory usage: 419.2 MB\n"
     ]
    }
   ],
   "source": [
    "df = pd.read_csv(\"mnist.csv\")\n",
    "df.info()"
   ]
  },
  {
   "cell_type": "code",
   "execution_count": 50,
   "metadata": {},
   "outputs": [],
   "source": [
    "X= df.iloc[:,:-1].to_numpy()\n",
    "Y= df.iloc[:,-1].to_numpy()"
   ]
  },
  {
   "cell_type": "markdown",
   "metadata": {},
   "source": [
    "We split the training set and test set with a test size of **20%**"
   ]
  },
  {
   "cell_type": "code",
   "execution_count": 53,
   "metadata": {},
   "outputs": [
    {
     "name": "stdout",
     "output_type": "stream",
     "text": [
      "Train data contains: 56000 samples of dimension 784\n",
      "Test data contains: 14000 samples\n"
     ]
    }
   ],
   "source": [
    "X_train, X_test, y_train, y_test = train_test_split(X, Y, test_size=0.20, random_state=42)\n",
    "\n",
    "print('Train data contains: {} samples of dimension {}'.format(X_train.shape[0], X_train.shape[1]))\n",
    "print('Test data contains: {} samples'.format(X_test.shape[0]))"
   ]
  },
  {
   "cell_type": "markdown",
   "metadata": {},
   "source": [
    "### Custom Loss function"
   ]
  },
  {
   "cell_type": "markdown",
   "metadata": {},
   "source": [
    "We chose to create our custom loss function.\n",
    "\n",
    "We made it very simple. We created a function that takes in two parameters: **TrueLabel and Predictedlabel**  :\n",
    "\n",
    "> For any number between {5-9} predicted with a label in {0-4} : adds 10 points to the loss score, Any other error adds 1.\n",
    "\n",
    "This penalization insures that the parameters of the model are chosen accordingly. \n",
    "\n",
    "\n",
    "The dataset provided in the assignment was not big enough to see the impact of this change. So we downloaded the full mnist dataset, and it worked !"
   ]
  },
  {
   "cell_type": "code",
   "execution_count": 69,
   "metadata": {},
   "outputs": [],
   "source": [
    "def custom_loss_func(y_true, y_pred):\n",
    "    \"\"\" The custom loss funciton penalizing 10x if the predicted label is in {0-4} \n",
    "    and the true label is in {5-9}\n",
    "\n",
    "    Parameters\n",
    "    ----------\n",
    "    y_true : numpy array\n",
    "        The true labels\n",
    "    y_pred : numpy array\n",
    "        predicted labels\n",
    "    \n",
    "    Returns\n",
    "    -------\n",
    "        float \n",
    "            total Score float\n",
    "    \"\"\"\n",
    "    score=np.zeros(len(y_true))\n",
    "    for i in range(len(y_true)):\n",
    "        x,y = y_true[i],y_pred[i]\n",
    "        if x >=5 and y<=4:\n",
    "            score[i]=10\n",
    "        elif x-y != 0 :\n",
    "            score[i]=1\n",
    "    return np.sum(score)\n",
    "\n",
    "\n",
    "\n",
    "def count_loss(y_true, y_pred):\n",
    "    \"\"\" Counts the number of 'big' errors ie : labels predicted in {0-4} \n",
    "     where true label is in {5-9}\n",
    "    \n",
    "    Parameters\n",
    "    ----------\n",
    "    y_true : numpy array\n",
    "        The true labels\n",
    "    y_pred : numpy array\n",
    "        predicted labels\n",
    "    \n",
    "    Returns\n",
    "    -------\n",
    "        int \n",
    "            total number of 'big' errors\n",
    "    \"\"\"\n",
    "        \n",
    "    y_true= np.asarray([int(i) for i in y_true])\n",
    "    y_pred= np.asarray([int(i) for i in y_pred])\n",
    "    count=0\n",
    "    for i in range(len(y_true)):\n",
    "        x,y = y_true[i],y_pred[i]\n",
    "        if x in list(range(5,10)) and y in list(range(0,5)):\n",
    "            count +=1\n",
    "    return count"
   ]
  },
  {
   "cell_type": "code",
   "execution_count": null,
   "metadata": {},
   "outputs": [],
   "source": [
    "pipe = Pipeline([('scaler', MaxAbsScaler()), ('rf', RandomForestClassifier())])\n",
    "parameters5 = {'rf__n_estimators': [1200]} # defining parameter space\n",
    "\n",
    "custom_scorer = make_scorer(custom_loss_func,greater_is_better=False)\n",
    "\n",
    "clf5 = GridSearchCV(pipe, parameters5, cv=3, scoring=custom_scorer)\n",
    "clf5.fit(X_train, y_train)\n",
    "\n",
    "print('Returned hyperparameter: {}'.format(clf5.best_params_))\n",
    "print('Best accuracy in train is: {}'.format(clf5.best_score_))\n",
    "print('Accuracy in test is: {}'.format(clf5.score(X_test, y_test)))"
   ]
  },
  {
   "cell_type": "code",
   "execution_count": null,
   "metadata": {},
   "outputs": [],
   "source": [
    "plot_confusion_matrix(clf5, X_test, y_test)  \n",
    "plt.figure(figsize=(10,10))\n",
    "plt.show()"
   ]
  },
  {
   "cell_type": "markdown",
   "metadata": {},
   "source": [
    "### Comparing to the 'normal' loss function"
   ]
  },
  {
   "cell_type": "code",
   "execution_count": null,
   "metadata": {},
   "outputs": [],
   "source": [
    "pipe = Pipeline([('scaler', MaxAbsScaler()), ('rf', RandomForestClassifier())])\n",
    "parameters55 = {'rf__n_estimators': [1200]} # defining parameter space\n",
    "\n",
    "\n",
    "clf55 = GridSearchCV(pipe, parameters5, cv=3)\n",
    "clf55.fit(X_train, y_train)\n",
    "\n",
    "print('Returned hyperparameter: {}'.format(clf55.best_params_))\n",
    "print('Best accuracy in train is: {}'.format(clf55.best_score_))\n",
    "print('Accuracy in test is: {}'.format(clf55.score(X_test, y_test)))\n"
   ]
  },
  {
   "cell_type": "code",
   "execution_count": null,
   "metadata": {},
   "outputs": [],
   "source": [
    "plot_confusion_matrix(clf55, X_test, y_test)  \n",
    "plt.figure(figsize=(10,10))\n",
    "plt.show()"
   ]
  },
  {
   "cell_type": "code",
   "execution_count": null,
   "metadata": {},
   "outputs": [],
   "source": [
    "count_loss(y_test,clf55.predict(X_test))"
   ]
  }
 ],
 "metadata": {
  "celltoolbar": "Raw Cell Format",
  "colab": {
   "name": "TP1.ipynb",
   "provenance": []
  },
  "kernelspec": {
   "display_name": "Python 3",
   "language": "python",
   "name": "python3"
  },
  "language_info": {
   "codemirror_mode": {
    "name": "ipython",
    "version": 3
   },
   "file_extension": ".py",
   "mimetype": "text/x-python",
   "name": "python",
   "nbconvert_exporter": "python",
   "pygments_lexer": "ipython3",
   "version": "3.7.7"
  }
 },
 "nbformat": 4,
 "nbformat_minor": 4
}
